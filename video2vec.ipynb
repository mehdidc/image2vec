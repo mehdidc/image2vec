{
 "cells": [
  {
   "cell_type": "code",
   "execution_count": null,
   "metadata": {
    "collapsed": false
   },
   "outputs": [],
   "source": [
    "%matplotlib inline\n",
    "import os\n",
    "os.environ[\"THEANO_FLAGS\"] = \"device=gpu\"\n",
    "import theano\n",
    "from caffezoo.googlenet import GoogleNet\n",
    "from caffezoo.vgg import VGG\n",
    "from skimage.io import imread\n",
    "from skimage.transform import AffineTransform, resize, SimilarityTransform, warp\n",
    "import matplotlib.pyplot as plt\n",
    "import numpy as np\n",
    "from sklearn.decomposition import PCA\n",
    "from sklearn.base import clone\n",
    "from sklearn.manifold import TSNE, LocallyLinearEmbedding, Isomap\n",
    "from skimage.util import pad\n",
    "from sklearn.cross_validation import cross_val_score"
   ]
  },
  {
   "cell_type": "code",
   "execution_count": null,
   "metadata": {
    "collapsed": true
   },
   "outputs": [],
   "source": [
    "images = [\n",
    "    #imread('dog_PNG178.png'),\n",
    "    #imread('forest.jpg'),\n",
    "    imread('image1.jpg'),\n",
    "]"
   ]
  },
  {
   "cell_type": "code",
   "execution_count": null,
   "metadata": {
    "collapsed": true
   },
   "outputs": [],
   "source": [
    "def concat(layers):\n",
    "    layers = [layer.reshape((layer.shape[0], np.prod(layer.shape[1:]))) for layer in layers]\n",
    "    return np.concatenate(layers, axis=1)\n",
    "\n",
    "def gram_matrix(x):\n",
    "    g = (x[:, :, None, :, :] * x[:, None, :, :, :]).sum(axis=(3, 4))\n",
    "    return g.reshape((x.shape[0],-1))\n",
    "    #x = x.reshape((x.shape[0], x.shape[1], -1))\n",
    "    #g = np.tensordot(x, x, axes=([2], [2]))\n",
    "    #return g\n",
    "\n",
    "def reduce_dim(f, dropout=0.5, seed=1234):\n",
    "    def f_(layers):\n",
    "        rng = np.random.RandomState(seed)\n",
    "        layers = [\n",
    "            l[:, (rng.uniform(size=l.shape[1]) > dropout)] for l in layers\n",
    "        ]\n",
    "        return f(layers)\n",
    "    return f_\n",
    "def gram(layers):\n",
    "    layers = [\n",
    "        gram_matrix(layer) for layer in layers\n",
    "    ]\n",
    "    return concat(layers)\n",
    "def as_is(layers):\n",
    "    return layers[0]"
   ]
  },
  {
   "cell_type": "code",
   "execution_count": null,
   "metadata": {
    "collapsed": true
   },
   "outputs": [],
   "source": [
    "# rescale to (w, h)\n",
    "w, h = 224, 224\n",
    "images = [resize(im, (w, h), preserve_range=True) for im in images]"
   ]
  },
  {
   "cell_type": "code",
   "execution_count": null,
   "metadata": {
    "collapsed": true
   },
   "outputs": [],
   "source": [
    "L = [ \"input\",\n",
    "      \"conv2/3x3_reduce\",\n",
    "     \"inception_3a/output\", \"inception_3b/output\", \n",
    "     \"inception_4a/output\", \"inception_4b/output\",\n",
    "     \"inception_4c/output\", \"inception_4d/output\",\n",
    "     \"inception_4e/output\", \"inception_5a/output\",\n",
    "     \"inception_5b/output\", \"inception_5b/output\", \"pool5/7x7_s1\"]\n",
    "layers = [L[2]]\n",
    "model = GoogleNet(resize=False, \n",
    "                  layer_names=layers, \n",
    "                  aggregate_function=concat, \n",
    "                  batch_size=50)\n",
    "model._load()"
   ]
  },
  {
   "cell_type": "code",
   "execution_count": null,
   "metadata": {
    "collapsed": true
   },
   "outputs": [],
   "source": [
    "transformed_images = np.array(images)"
   ]
  },
  {
   "cell_type": "code",
   "execution_count": null,
   "metadata": {
    "collapsed": false
   },
   "outputs": [],
   "source": [
    "model.transform(transformed_images)"
   ]
  }
 ],
 "metadata": {
  "kernelspec": {
   "display_name": "Python 2",
   "language": "python",
   "name": "python2"
  },
  "language_info": {
   "codemirror_mode": {
    "name": "ipython",
    "version": 2
   },
   "file_extension": ".py",
   "mimetype": "text/x-python",
   "name": "python",
   "nbconvert_exporter": "python",
   "pygments_lexer": "ipython2",
   "version": "2.7.10"
  }
 },
 "nbformat": 4,
 "nbformat_minor": 0
}
